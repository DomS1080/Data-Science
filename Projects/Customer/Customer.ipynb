{
 "cells": [
  {
   "cell_type": "code",
   "execution_count": 1,
   "id": "f3bd67fc-be96-472c-908b-5104c8e533a9",
   "metadata": {},
   "outputs": [],
   "source": [
    "from sklearn.linear_model import LogisticRegression\n",
    "from sklearn.cluster import KMeans\n",
    "from sklearn.decomposition import PCA\n",
    "from sklearn.preprocessing import LabelEncoder, OrdinalEncoder, OneHotEncoder, StandardScaler\n",
    "import polars as pl\n",
    "import pandas as pd\n",
    "import matplotlib.pyplot as plt\n",
    "import seaborn as sns\n",
    "import numpy as np\n",
    "\n",
    " #Configure pandas for high dimensionality dataframes\n",
    "pd.set_option('display.max_columns', None)"
   ]
  },
  {
   "cell_type": "code",
   "execution_count": 2,
   "id": "79c24341-5255-4b4d-9feb-73139dcb1ef2",
   "metadata": {},
   "outputs": [
    {
     "name": "stdout",
     "output_type": "stream",
     "text": [
      "<class 'pandas.core.frame.DataFrame'>\n",
      "RangeIndex: 8068 entries, 0 to 8067\n",
      "Data columns (total 11 columns):\n",
      " #   Column           Non-Null Count  Dtype  \n",
      "---  ------           --------------  -----  \n",
      " 0   ID               8068 non-null   int64  \n",
      " 1   Gender           8068 non-null   object \n",
      " 2   Ever_Married     7928 non-null   object \n",
      " 3   Age              8068 non-null   int64  \n",
      " 4   Graduated        7990 non-null   object \n",
      " 5   Profession       7944 non-null   object \n",
      " 6   Work_Experience  7239 non-null   float64\n",
      " 7   Spending_Score   8068 non-null   object \n",
      " 8   Family_Size      7733 non-null   float64\n",
      " 9   Var_1            7992 non-null   object \n",
      " 10  Segmentation     8068 non-null   object \n",
      "dtypes: float64(2), int64(2), object(7)\n",
      "memory usage: 693.5+ KB\n",
      "<class 'pandas.core.frame.DataFrame'>\n",
      "RangeIndex: 2627 entries, 0 to 2626\n",
      "Data columns (total 10 columns):\n",
      " #   Column           Non-Null Count  Dtype  \n",
      "---  ------           --------------  -----  \n",
      " 0   ID               2627 non-null   int64  \n",
      " 1   Gender           2627 non-null   object \n",
      " 2   Ever_Married     2577 non-null   object \n",
      " 3   Age              2627 non-null   int64  \n",
      " 4   Graduated        2603 non-null   object \n",
      " 5   Profession       2589 non-null   object \n",
      " 6   Work_Experience  2358 non-null   float64\n",
      " 7   Spending_Score   2627 non-null   object \n",
      " 8   Family_Size      2514 non-null   float64\n",
      " 9   Var_1            2595 non-null   object \n",
      "dtypes: float64(2), int64(2), object(6)\n",
      "memory usage: 205.4+ KB\n",
      "None None\n"
     ]
    }
   ],
   "source": [
    "#Imports\n",
    "cust_train = pd.read_csv(r'C:\\Users\\Public\\cust_train.csv')\n",
    "cust_test = pd.read_csv(r'C:\\Users\\Public\\cust_test.csv')\n",
    "print(cust_train.info(), cust_test.info())"
   ]
  },
  {
   "cell_type": "code",
   "execution_count": 3,
   "id": "be3ce933-b6e6-4c52-bbc3-f14d4f57a85b",
   "metadata": {},
   "outputs": [
    {
     "data": {
      "text/html": [
       "<div>\n",
       "<style scoped>\n",
       "    .dataframe tbody tr th:only-of-type {\n",
       "        vertical-align: middle;\n",
       "    }\n",
       "\n",
       "    .dataframe tbody tr th {\n",
       "        vertical-align: top;\n",
       "    }\n",
       "\n",
       "    .dataframe thead th {\n",
       "        text-align: right;\n",
       "    }\n",
       "</style>\n",
       "<table border=\"1\" class=\"dataframe\">\n",
       "  <thead>\n",
       "    <tr style=\"text-align: right;\">\n",
       "      <th></th>\n",
       "      <th>ID</th>\n",
       "      <th>Gender</th>\n",
       "      <th>Ever_Married</th>\n",
       "      <th>Age</th>\n",
       "      <th>Graduated</th>\n",
       "      <th>Profession</th>\n",
       "      <th>Work_Experience</th>\n",
       "      <th>Spending_Score</th>\n",
       "      <th>Family_Size</th>\n",
       "      <th>Var_1</th>\n",
       "      <th>Segmentation</th>\n",
       "    </tr>\n",
       "  </thead>\n",
       "  <tbody>\n",
       "    <tr>\n",
       "      <th>0</th>\n",
       "      <td>462809</td>\n",
       "      <td>Male</td>\n",
       "      <td>No</td>\n",
       "      <td>22</td>\n",
       "      <td>No</td>\n",
       "      <td>Healthcare</td>\n",
       "      <td>1.0</td>\n",
       "      <td>Low</td>\n",
       "      <td>4.0</td>\n",
       "      <td>Cat_4</td>\n",
       "      <td>D</td>\n",
       "    </tr>\n",
       "    <tr>\n",
       "      <th>1</th>\n",
       "      <td>462643</td>\n",
       "      <td>Female</td>\n",
       "      <td>Yes</td>\n",
       "      <td>38</td>\n",
       "      <td>Yes</td>\n",
       "      <td>Engineer</td>\n",
       "      <td>NaN</td>\n",
       "      <td>Average</td>\n",
       "      <td>3.0</td>\n",
       "      <td>Cat_4</td>\n",
       "      <td>A</td>\n",
       "    </tr>\n",
       "    <tr>\n",
       "      <th>2</th>\n",
       "      <td>466315</td>\n",
       "      <td>Female</td>\n",
       "      <td>Yes</td>\n",
       "      <td>67</td>\n",
       "      <td>Yes</td>\n",
       "      <td>Engineer</td>\n",
       "      <td>1.0</td>\n",
       "      <td>Low</td>\n",
       "      <td>1.0</td>\n",
       "      <td>Cat_6</td>\n",
       "      <td>B</td>\n",
       "    </tr>\n",
       "  </tbody>\n",
       "</table>\n",
       "</div>"
      ],
      "text/plain": [
       "       ID  Gender Ever_Married  Age Graduated  Profession  Work_Experience  \\\n",
       "0  462809    Male           No   22        No  Healthcare              1.0   \n",
       "1  462643  Female          Yes   38       Yes    Engineer              NaN   \n",
       "2  466315  Female          Yes   67       Yes    Engineer              1.0   \n",
       "\n",
       "  Spending_Score  Family_Size  Var_1 Segmentation  \n",
       "0            Low          4.0  Cat_4            D  \n",
       "1        Average          3.0  Cat_4            A  \n",
       "2            Low          1.0  Cat_6            B  "
      ]
     },
     "execution_count": 3,
     "metadata": {},
     "output_type": "execute_result"
    }
   ],
   "source": [
    "#Preview data\n",
    "cust_train.head(3)"
   ]
  },
  {
   "cell_type": "code",
   "execution_count": 4,
   "id": "d24fef99-679e-45b3-9e0e-90a577da61a6",
   "metadata": {},
   "outputs": [],
   "source": [
    "#Remove ID column\n",
    "cust_train = cust_train.drop(cust_train[['ID']], axis=1)"
   ]
  },
  {
   "cell_type": "code",
   "execution_count": 5,
   "id": "97b37e45-99a2-44f4-827e-07b16adb8796",
   "metadata": {},
   "outputs": [
    {
     "data": {
      "text/plain": [
       "Segmentation\n",
       "D    0.281111\n",
       "A    0.244422\n",
       "C    0.244175\n",
       "B    0.230293\n",
       "Name: proportion, dtype: float64"
      ]
     },
     "execution_count": 5,
     "metadata": {},
     "output_type": "execute_result"
    }
   ],
   "source": [
    "#Check train label balance proportions\n",
    "cust_train['Segmentation'].value_counts(normalize=True)"
   ]
  },
  {
   "cell_type": "code",
   "execution_count": 6,
   "id": "3df70aca-89e6-40e3-89ed-4effce559d1a",
   "metadata": {},
   "outputs": [
    {
     "data": {
      "text/plain": [
       "Gender               0\n",
       "Ever_Married       140\n",
       "Age                  0\n",
       "Graduated           78\n",
       "Profession         124\n",
       "Work_Experience    829\n",
       "Spending_Score       0\n",
       "Family_Size        335\n",
       "Var_1               76\n",
       "Segmentation         0\n",
       "dtype: int64"
      ]
     },
     "execution_count": 6,
     "metadata": {},
     "output_type": "execute_result"
    }
   ],
   "source": [
    "#Count missing values\n",
    "cust_train.isna().sum()"
   ]
  },
  {
   "cell_type": "code",
   "execution_count": 7,
   "id": "9321e928-20bc-44c5-a29b-3663153b98b3",
   "metadata": {},
   "outputs": [
    {
     "name": "stdout",
     "output_type": "stream",
     "text": [
      "Records after dropping missing values: 6665\n"
     ]
    }
   ],
   "source": [
    "#Drop records with missing values\n",
    "cust_train = cust_train.dropna()\n",
    "print(\"Records after dropping missing values: \"+str(len(cust_train)))"
   ]
  },
  {
   "cell_type": "code",
   "execution_count": 8,
   "id": "60c13be8-ed56-44b2-ba5a-2c9db0621e0f",
   "metadata": {},
   "outputs": [
    {
     "name": "stdout",
     "output_type": "stream",
     "text": [
      "<class 'pandas.core.frame.DataFrame'>\n",
      "Index: 6665 entries, 0 to 8067\n",
      "Data columns (total 10 columns):\n",
      " #   Column           Non-Null Count  Dtype  \n",
      "---  ------           --------------  -----  \n",
      " 0   Gender           6665 non-null   object \n",
      " 1   Ever_Married     6665 non-null   object \n",
      " 2   Age              6665 non-null   int64  \n",
      " 3   Graduated        6665 non-null   object \n",
      " 4   Profession       6665 non-null   object \n",
      " 5   Work_Experience  6665 non-null   float64\n",
      " 6   Spending_Score   6665 non-null   object \n",
      " 7   Family_Size      6665 non-null   float64\n",
      " 8   Var_1            6665 non-null   object \n",
      " 9   Segmentation     6665 non-null   object \n",
      "dtypes: float64(2), int64(1), object(7)\n",
      "memory usage: 572.8+ KB\n"
     ]
    }
   ],
   "source": [
    "cust_train.info()"
   ]
  },
  {
   "cell_type": "code",
   "execution_count": 9,
   "id": "0c268bde-8bcf-4797-9013-6406ad5b1b5a",
   "metadata": {},
   "outputs": [
    {
     "data": {
      "text/html": [
       "<div>\n",
       "<style scoped>\n",
       "    .dataframe tbody tr th:only-of-type {\n",
       "        vertical-align: middle;\n",
       "    }\n",
       "\n",
       "    .dataframe tbody tr th {\n",
       "        vertical-align: top;\n",
       "    }\n",
       "\n",
       "    .dataframe thead th {\n",
       "        text-align: right;\n",
       "    }\n",
       "</style>\n",
       "<table border=\"1\" class=\"dataframe\">\n",
       "  <thead>\n",
       "    <tr style=\"text-align: right;\">\n",
       "      <th></th>\n",
       "      <th>Gender</th>\n",
       "      <th>Ever_Married</th>\n",
       "      <th>Age</th>\n",
       "      <th>Graduated</th>\n",
       "      <th>Profession</th>\n",
       "      <th>Work_Experience</th>\n",
       "      <th>Spending_Score</th>\n",
       "      <th>Family_Size</th>\n",
       "      <th>Var_1</th>\n",
       "      <th>Segmentation</th>\n",
       "    </tr>\n",
       "  </thead>\n",
       "  <tbody>\n",
       "    <tr>\n",
       "      <th>0</th>\n",
       "      <td>Male</td>\n",
       "      <td>No</td>\n",
       "      <td>22</td>\n",
       "      <td>No</td>\n",
       "      <td>Healthcare</td>\n",
       "      <td>1</td>\n",
       "      <td>Low</td>\n",
       "      <td>4</td>\n",
       "      <td>Cat_4</td>\n",
       "      <td>D</td>\n",
       "    </tr>\n",
       "    <tr>\n",
       "      <th>2</th>\n",
       "      <td>Female</td>\n",
       "      <td>Yes</td>\n",
       "      <td>67</td>\n",
       "      <td>Yes</td>\n",
       "      <td>Engineer</td>\n",
       "      <td>1</td>\n",
       "      <td>Low</td>\n",
       "      <td>1</td>\n",
       "      <td>Cat_6</td>\n",
       "      <td>B</td>\n",
       "    </tr>\n",
       "    <tr>\n",
       "      <th>3</th>\n",
       "      <td>Male</td>\n",
       "      <td>Yes</td>\n",
       "      <td>67</td>\n",
       "      <td>Yes</td>\n",
       "      <td>Lawyer</td>\n",
       "      <td>0</td>\n",
       "      <td>High</td>\n",
       "      <td>2</td>\n",
       "      <td>Cat_6</td>\n",
       "      <td>B</td>\n",
       "    </tr>\n",
       "    <tr>\n",
       "      <th>5</th>\n",
       "      <td>Male</td>\n",
       "      <td>Yes</td>\n",
       "      <td>56</td>\n",
       "      <td>No</td>\n",
       "      <td>Artist</td>\n",
       "      <td>0</td>\n",
       "      <td>Average</td>\n",
       "      <td>2</td>\n",
       "      <td>Cat_6</td>\n",
       "      <td>C</td>\n",
       "    </tr>\n",
       "    <tr>\n",
       "      <th>6</th>\n",
       "      <td>Male</td>\n",
       "      <td>No</td>\n",
       "      <td>32</td>\n",
       "      <td>Yes</td>\n",
       "      <td>Healthcare</td>\n",
       "      <td>1</td>\n",
       "      <td>Low</td>\n",
       "      <td>3</td>\n",
       "      <td>Cat_6</td>\n",
       "      <td>C</td>\n",
       "    </tr>\n",
       "    <tr>\n",
       "      <th>...</th>\n",
       "      <td>...</td>\n",
       "      <td>...</td>\n",
       "      <td>...</td>\n",
       "      <td>...</td>\n",
       "      <td>...</td>\n",
       "      <td>...</td>\n",
       "      <td>...</td>\n",
       "      <td>...</td>\n",
       "      <td>...</td>\n",
       "      <td>...</td>\n",
       "    </tr>\n",
       "    <tr>\n",
       "      <th>8062</th>\n",
       "      <td>Male</td>\n",
       "      <td>Yes</td>\n",
       "      <td>41</td>\n",
       "      <td>Yes</td>\n",
       "      <td>Artist</td>\n",
       "      <td>0</td>\n",
       "      <td>High</td>\n",
       "      <td>5</td>\n",
       "      <td>Cat_6</td>\n",
       "      <td>B</td>\n",
       "    </tr>\n",
       "    <tr>\n",
       "      <th>8064</th>\n",
       "      <td>Male</td>\n",
       "      <td>No</td>\n",
       "      <td>35</td>\n",
       "      <td>No</td>\n",
       "      <td>Executive</td>\n",
       "      <td>3</td>\n",
       "      <td>Low</td>\n",
       "      <td>4</td>\n",
       "      <td>Cat_4</td>\n",
       "      <td>D</td>\n",
       "    </tr>\n",
       "    <tr>\n",
       "      <th>8065</th>\n",
       "      <td>Female</td>\n",
       "      <td>No</td>\n",
       "      <td>33</td>\n",
       "      <td>Yes</td>\n",
       "      <td>Healthcare</td>\n",
       "      <td>1</td>\n",
       "      <td>Low</td>\n",
       "      <td>1</td>\n",
       "      <td>Cat_6</td>\n",
       "      <td>D</td>\n",
       "    </tr>\n",
       "    <tr>\n",
       "      <th>8066</th>\n",
       "      <td>Female</td>\n",
       "      <td>No</td>\n",
       "      <td>27</td>\n",
       "      <td>Yes</td>\n",
       "      <td>Healthcare</td>\n",
       "      <td>1</td>\n",
       "      <td>Low</td>\n",
       "      <td>4</td>\n",
       "      <td>Cat_6</td>\n",
       "      <td>B</td>\n",
       "    </tr>\n",
       "    <tr>\n",
       "      <th>8067</th>\n",
       "      <td>Male</td>\n",
       "      <td>Yes</td>\n",
       "      <td>37</td>\n",
       "      <td>Yes</td>\n",
       "      <td>Executive</td>\n",
       "      <td>0</td>\n",
       "      <td>Average</td>\n",
       "      <td>3</td>\n",
       "      <td>Cat_4</td>\n",
       "      <td>B</td>\n",
       "    </tr>\n",
       "  </tbody>\n",
       "</table>\n",
       "<p>6665 rows × 10 columns</p>\n",
       "</div>"
      ],
      "text/plain": [
       "      Gender Ever_Married  Age Graduated  Profession  Work_Experience  \\\n",
       "0       Male           No   22        No  Healthcare                1   \n",
       "2     Female          Yes   67       Yes    Engineer                1   \n",
       "3       Male          Yes   67       Yes      Lawyer                0   \n",
       "5       Male          Yes   56        No      Artist                0   \n",
       "6       Male           No   32       Yes  Healthcare                1   \n",
       "...      ...          ...  ...       ...         ...              ...   \n",
       "8062    Male          Yes   41       Yes      Artist                0   \n",
       "8064    Male           No   35        No   Executive                3   \n",
       "8065  Female           No   33       Yes  Healthcare                1   \n",
       "8066  Female           No   27       Yes  Healthcare                1   \n",
       "8067    Male          Yes   37       Yes   Executive                0   \n",
       "\n",
       "     Spending_Score  Family_Size  Var_1 Segmentation  \n",
       "0               Low            4  Cat_4            D  \n",
       "2               Low            1  Cat_6            B  \n",
       "3              High            2  Cat_6            B  \n",
       "5           Average            2  Cat_6            C  \n",
       "6               Low            3  Cat_6            C  \n",
       "...             ...          ...    ...          ...  \n",
       "8062           High            5  Cat_6            B  \n",
       "8064            Low            4  Cat_4            D  \n",
       "8065            Low            1  Cat_6            D  \n",
       "8066            Low            4  Cat_6            B  \n",
       "8067        Average            3  Cat_4            B  \n",
       "\n",
       "[6665 rows x 10 columns]"
      ]
     },
     "execution_count": 9,
     "metadata": {},
     "output_type": "execute_result"
    }
   ],
   "source": [
    "#Convert float cols to int\n",
    "cust_train.astype({'Work_Experience':int, 'Family_Size':int})"
   ]
  },
  {
   "cell_type": "code",
   "execution_count": 10,
   "id": "6d2088fc-bf72-4e68-8ad9-d0c4bcd9c2ca",
   "metadata": {},
   "outputs": [
    {
     "data": {
      "text/plain": [
       "Segmentation\n",
       "D    0.263616\n",
       "C    0.258065\n",
       "A    0.242461\n",
       "B    0.235859\n",
       "Name: proportion, dtype: float64"
      ]
     },
     "execution_count": 10,
     "metadata": {},
     "output_type": "execute_result"
    }
   ],
   "source": [
    "#Updated balance\n",
    "cust_train['Segmentation'].value_counts(normalize=True)"
   ]
  },
  {
   "cell_type": "code",
   "execution_count": 11,
   "id": "db2d2cc3-08c7-42cb-93c5-3fbbd7e8e51b",
   "metadata": {},
   "outputs": [
    {
     "data": {
      "text/plain": [
       "['Gender',\n",
       " 'Ever_Married',\n",
       " 'Graduated',\n",
       " 'Profession',\n",
       " 'Spending_Score',\n",
       " 'Var_1',\n",
       " 'Segmentation']"
      ]
     },
     "execution_count": 11,
     "metadata": {},
     "output_type": "execute_result"
    }
   ],
   "source": [
    "#Detect categorical object/string columns\n",
    "obj_tr = (cust_train.dtypes == 'object')\n",
    "obj_cols_tr = list(obj_tr[obj_tr].index)\n",
    "obj_cols_tr"
   ]
  },
  {
   "cell_type": "code",
   "execution_count": 12,
   "id": "1272ea09-2766-4a3b-88ad-9ac6fe9d9816",
   "metadata": {},
   "outputs": [
    {
     "name": "stdout",
     "output_type": "stream",
     "text": [
      "        count\n",
      "Gender       \n",
      "Male     3677\n",
      "Female   2988\n",
      "              count\n",
      "Ever_Married       \n",
      "Yes            3944\n",
      "No             2721\n",
      "           count\n",
      "Graduated       \n",
      "Yes         4249\n",
      "No          2416\n",
      "               count\n",
      "Profession          \n",
      "Artist          2192\n",
      "Healthcare      1077\n",
      "Entertainment    809\n",
      "Doctor           592\n",
      "Engineer         582\n",
      "Executive        505\n",
      "Lawyer           500\n",
      "Marketing        233\n",
      "Homemaker        175\n",
      "                count\n",
      "Spending_Score       \n",
      "Low              3999\n",
      "Average          1662\n",
      "High             1004\n",
      "       count\n",
      "Var_1       \n",
      "Cat_6   4476\n",
      "Cat_4    849\n",
      "Cat_3    634\n",
      "Cat_2    362\n",
      "Cat_7    166\n",
      "Cat_1    104\n",
      "Cat_5     74\n",
      "              count\n",
      "Segmentation       \n",
      "D              1757\n",
      "C              1720\n",
      "A              1616\n",
      "B              1572\n",
      "\n",
      "Total # categorical levels/values:  29\n"
     ]
    }
   ],
   "source": [
    "#List categories and levels\n",
    "cat_count=0\n",
    "for col in obj_cols_tr:\n",
    "    print(pd.DataFrame(cust_train[col].value_counts()))\n",
    "    cat_count += len(cust_train[col].value_counts())\n",
    "print('\\nTotal # categorical levels/values: ', cat_count)"
   ]
  },
  {
   "cell_type": "code",
   "execution_count": 13,
   "id": "c845d25d-b856-4b36-b609-e1b0271eac9e",
   "metadata": {},
   "outputs": [],
   "source": [
    "#Encode categorical variables depending on relationships between values\n",
    "\n",
    " #LabelEncoder for label ('Segmentation'); maps labels alphabetically (A=0, D=3)\n",
    "enc_lab = LabelEncoder()\n",
    " #OrdinalEncoder for 'Spending_Score\n",
    "  #Assign Spend_Score categories to continuous values; Low=1, high=3\n",
    "enc_ord = OrdinalEncoder(categories=[['skip','Low','Average','High']])\n",
    " #OneHotEncoder for remaining categorical features\n",
    "enc_OneH = OneHotEncoder(sparse_output=False, dtype=int)"
   ]
  },
  {
   "cell_type": "code",
   "execution_count": 14,
   "id": "68dcabb5-1a8a-4d0f-a2e7-120fbb89e853",
   "metadata": {},
   "outputs": [
    {
     "data": {
      "text/plain": [
       "0    3\n",
       "2    1\n",
       "3    1\n",
       "Name: Segmentation, dtype: int32"
      ]
     },
     "execution_count": 14,
     "metadata": {},
     "output_type": "execute_result"
    }
   ],
   "source": [
    "#Encode labels\n",
    "cust_train['Segmentation'] = enc_lab.fit_transform(cust_train['Segmentation'])\n",
    "cust_train['Segmentation'].head(3)"
   ]
  },
  {
   "cell_type": "code",
   "execution_count": 15,
   "id": "37f7c9bc-11cd-4833-b044-2e7d946af922",
   "metadata": {},
   "outputs": [
    {
     "data": {
      "text/plain": [
       "0    1.0\n",
       "2    1.0\n",
       "3    3.0\n",
       "Name: Spending_Score, dtype: float64"
      ]
     },
     "execution_count": 15,
     "metadata": {},
     "output_type": "execute_result"
    }
   ],
   "source": [
    "#Encode 'Spending_Score'\n",
    "cust_train['Spending_Score'] = enc_ord.fit_transform(cust_train[['Spending_Score']])\n",
    "cust_train['Spending_Score'].head(3)"
   ]
  },
  {
   "cell_type": "code",
   "execution_count": 16,
   "id": "19a1076b-442b-4ddd-8003-79ede550173f",
   "metadata": {},
   "outputs": [
    {
     "data": {
      "text/html": [
       "<div>\n",
       "<style scoped>\n",
       "    .dataframe tbody tr th:only-of-type {\n",
       "        vertical-align: middle;\n",
       "    }\n",
       "\n",
       "    .dataframe tbody tr th {\n",
       "        vertical-align: top;\n",
       "    }\n",
       "\n",
       "    .dataframe thead th {\n",
       "        text-align: right;\n",
       "    }\n",
       "</style>\n",
       "<table border=\"1\" class=\"dataframe\">\n",
       "  <thead>\n",
       "    <tr style=\"text-align: right;\">\n",
       "      <th></th>\n",
       "      <th>Gender</th>\n",
       "      <th>Ever_Married</th>\n",
       "      <th>Age</th>\n",
       "      <th>Graduated</th>\n",
       "      <th>Profession</th>\n",
       "      <th>Work_Experience</th>\n",
       "      <th>Spending_Score</th>\n",
       "      <th>Family_Size</th>\n",
       "      <th>Var_1</th>\n",
       "      <th>Segmentation</th>\n",
       "    </tr>\n",
       "  </thead>\n",
       "  <tbody>\n",
       "    <tr>\n",
       "      <th>0</th>\n",
       "      <td>Male</td>\n",
       "      <td>No</td>\n",
       "      <td>22</td>\n",
       "      <td>No</td>\n",
       "      <td>Healthcare</td>\n",
       "      <td>1.0</td>\n",
       "      <td>1.0</td>\n",
       "      <td>4.0</td>\n",
       "      <td>Cat_4</td>\n",
       "      <td>3</td>\n",
       "    </tr>\n",
       "    <tr>\n",
       "      <th>2</th>\n",
       "      <td>Female</td>\n",
       "      <td>Yes</td>\n",
       "      <td>67</td>\n",
       "      <td>Yes</td>\n",
       "      <td>Engineer</td>\n",
       "      <td>1.0</td>\n",
       "      <td>1.0</td>\n",
       "      <td>1.0</td>\n",
       "      <td>Cat_6</td>\n",
       "      <td>1</td>\n",
       "    </tr>\n",
       "    <tr>\n",
       "      <th>3</th>\n",
       "      <td>Male</td>\n",
       "      <td>Yes</td>\n",
       "      <td>67</td>\n",
       "      <td>Yes</td>\n",
       "      <td>Lawyer</td>\n",
       "      <td>0.0</td>\n",
       "      <td>3.0</td>\n",
       "      <td>2.0</td>\n",
       "      <td>Cat_6</td>\n",
       "      <td>1</td>\n",
       "    </tr>\n",
       "  </tbody>\n",
       "</table>\n",
       "</div>"
      ],
      "text/plain": [
       "   Gender Ever_Married  Age Graduated  Profession  Work_Experience  \\\n",
       "0    Male           No   22        No  Healthcare              1.0   \n",
       "2  Female          Yes   67       Yes    Engineer              1.0   \n",
       "3    Male          Yes   67       Yes      Lawyer              0.0   \n",
       "\n",
       "   Spending_Score  Family_Size  Var_1  Segmentation  \n",
       "0             1.0          4.0  Cat_4             3  \n",
       "2             1.0          1.0  Cat_6             1  \n",
       "3             3.0          2.0  Cat_6             1  "
      ]
     },
     "execution_count": 16,
     "metadata": {},
     "output_type": "execute_result"
    }
   ],
   "source": [
    "#Confirm transformations\n",
    "cust_train.head(3)"
   ]
  },
  {
   "cell_type": "code",
   "execution_count": 17,
   "id": "ecf6020a-ae20-4112-b1db-88571081be77",
   "metadata": {},
   "outputs": [
    {
     "data": {
      "text/plain": [
       "['Gender', 'Ever_Married', 'Graduated', 'Profession', 'Var_1']"
      ]
     },
     "execution_count": 17,
     "metadata": {},
     "output_type": "execute_result"
    }
   ],
   "source": [
    "#Remaining categorical vars (not label or ordinal)\n",
    "cols_rem = [col for col in obj_cols_tr if col not in ['Spending_Score', 'Segmentation']]\n",
    "cols_rem"
   ]
  },
  {
   "cell_type": "markdown",
   "id": "225497f8-4316-437e-98e3-8a7a06cffebc",
   "metadata": {},
   "source": [
    "Before continuing and exploding the remaining string attributes out into separate one-hot columns, lets look at a scatter matrix of the numerical features"
   ]
  },
  {
   "cell_type": "code",
   "execution_count": null,
   "id": "c43c4b51-bf6e-4f25-9a9c-ed29dc932d9e",
   "metadata": {},
   "outputs": [],
   "source": [
    "pd.plotting.scatter_matrix(cust_train, grid=True, figsize=(10,10))\n",
    "plt.show()"
   ]
  },
  {
   "cell_type": "code",
   "execution_count": null,
   "id": "ccdd48ee-8a64-4891-bb15-3a68e29ed578",
   "metadata": {},
   "outputs": [],
   "source": [
    "#Encode features in dataframe\n",
    "encoded = pd.DataFrame(enc_OneH.fit_transform(cust_train[['Gender','Ever_Married','Graduated','Profession','Var_1']]), columns=enc_OneH.get_feature_names_out())\n",
    " #Preview One-Hot features\n",
    "print(encoded.shape)\n",
    "encoded.head()"
   ]
  },
  {
   "cell_type": "code",
   "execution_count": null,
   "id": "16db2b0b-568d-4dc0-b953-58c2f6eec60b",
   "metadata": {},
   "outputs": [],
   "source": [
    "#Review cust_train index after dropping records\n",
    "print(cust_train.shape)\n",
    "cust_train.head(3)"
   ]
  },
  {
   "cell_type": "code",
   "execution_count": null,
   "id": "c1c8b591-e8e8-49f3-afe1-04a35897c2ab",
   "metadata": {},
   "outputs": [],
   "source": [
    "#Reset cust_train index before concatenating to prevent record corruption due to incongruent indexes\n",
    "cust_train.reset_index(drop=True, inplace=True)\n",
    "print(cust_train.shape)\n",
    "cust_train.head(3)"
   ]
  },
  {
   "cell_type": "code",
   "execution_count": null,
   "id": "27126671-8c5a-453a-909f-eadff46713de",
   "metadata": {},
   "outputs": [],
   "source": [
    "#Combine original and one hot encoded dataframes\n",
    "cust_train = pd.concat([cust_train, encoded], axis=1)\n",
    " #Drop pre-transformation features\n",
    "cust_train = cust_train.drop(cust_train[['Gender','Ever_Married','Graduated','Profession','Var_1']], axis=1)"
   ]
  },
  {
   "cell_type": "code",
   "execution_count": null,
   "id": "758375d0-8ebc-4836-8589-5ea2f9378eaa",
   "metadata": {},
   "outputs": [],
   "source": [
    "#Resetting index before concatenation prevented 1146 rows from corrupting as they did previously\n",
    "cust_train.isna().sum()"
   ]
  },
  {
   "cell_type": "code",
   "execution_count": null,
   "id": "26330ba6-0b51-4667-9db6-a0e7314da514",
   "metadata": {},
   "outputs": [],
   "source": [
    "#Move Label to last column\n",
    "cust_train['Segmentation'] = cust_train.pop('Segmentation')"
   ]
  },
  {
   "cell_type": "code",
   "execution_count": null,
   "id": "d8e66eec-9802-4932-a487-c899720399d3",
   "metadata": {},
   "outputs": [],
   "source": [
    "#Preview full pre-processed df\n",
    "cust_train.head(3)"
   ]
  },
  {
   "cell_type": "code",
   "execution_count": null,
   "id": "d95c2cc1-deac-4e71-b5f6-84e084f2e9d7",
   "metadata": {},
   "outputs": [],
   "source": [
    "#Review summary statistics\n",
    "cust_train.describe()"
   ]
  },
  {
   "cell_type": "code",
   "execution_count": null,
   "id": "6918e29e-caa2-45fb-b1b6-0ba6fee18c17",
   "metadata": {},
   "outputs": [],
   "source": [
    "#Create correlation matrix\n",
    "corr_matrix = cust_train.corr()\n",
    "\n",
    "#Plot masked heatmap\n",
    "mask = np.triu(np.ones_like(corr_matrix, dtype=bool))\n",
    "plt.figure(figsize=(18,12))\n",
    "\n",
    "sns.heatmap(corr_matrix, annot=True, cmap='seismic', mask=mask, vmin=-1, vmax=1)\n",
    "plt.title('Correlation Coefficients')\n",
    "plt.show()"
   ]
  },
  {
   "cell_type": "markdown",
   "id": "800d0940-0483-48fa-b7ba-08fd28f60c76",
   "metadata": {},
   "source": [
    "We can observe some simple associations in the correlation coefficients:\n",
    "- Married people, lawyers, people who have graduated, and (to some degree) people in the anonymized Var_1 category '6' are correlated with greater ages\n",
    "  - Healthcare workers tend to be younger\n",
    "- Married people, lawyers, and exectives correlate with higher spending scores\n",
    "  - Unmarried people and healthcare workers tend to spend less\n",
    " \n",
    "Now lets scale the data and make some cluster predictions"
   ]
  },
  {
   "cell_type": "code",
   "execution_count": null,
   "id": "d67a8977-fd87-4247-ad75-fdd2bf28fd29",
   "metadata": {},
   "outputs": [],
   "source": [
    "#Save column names\n",
    "col_names = pd.Series(cust_train.columns)\n",
    "\n",
    "#Scale data + reapply column titles\n",
    "scaler = StandardScaler()\n",
    "\n",
    "cust_train_sc = pd.DataFrame(scaler.fit_transform(cust_train))\n",
    "cust_train_sc.rename(columns=col_names, inplace=True)\n",
    "\n",
    "cust_train_sc.head(3)"
   ]
  },
  {
   "cell_type": "code",
   "execution_count": null,
   "id": "06bcbfcc-48ac-4735-ba10-08aa131f7351",
   "metadata": {},
   "outputs": [],
   "source": [
    "#Split labelled train data into train (6/7) and test (1/7) sets\n",
    "split_index = len(cust_train)//7\n",
    "\n",
    "y_tr = cust_train.iloc[:-split_index, -1:]\n",
    "y_tr = y_tr.to_numpy().reshape(len(y_tr),)\n",
    "\n",
    "X_tr = cust_train.iloc[:-split_index, :-1]\n",
    "\n",
    "y_te = cust_train.iloc[-split_index:, -1:]\n",
    "y_te = y_te.to_numpy().reshape(len(y_te),)\n",
    "\n",
    "X_te = cust_train.iloc[-split_index:, :-1]"
   ]
  },
  {
   "cell_type": "code",
   "execution_count": null,
   "id": "9e7136fb-ec87-475e-8594-2cbe217c4a7a",
   "metadata": {},
   "outputs": [],
   "source": [
    "X_tr.shape, y_tr.shape"
   ]
  },
  {
   "cell_type": "code",
   "execution_count": null,
   "id": "cd65a47d-b1bf-478d-9bd6-e5f0470251e6",
   "metadata": {},
   "outputs": [],
   "source": [
    "X_te.shape, y_te.shape"
   ]
  },
  {
   "cell_type": "code",
   "execution_count": null,
   "id": "2e718505-9ff3-48d6-b93a-7c5ff0404ffe",
   "metadata": {},
   "outputs": [],
   "source": [
    "#Get baseline accuracy for simple logistic regression model\n",
    "base_log_reg = LogisticRegression(max_iter=2_500)\n",
    "base_log_reg.fit(X_tr, y_tr)"
   ]
  },
  {
   "cell_type": "code",
   "execution_count": null,
   "id": "d9d6c8c2-a412-4028-bd74-fcd44276eec5",
   "metadata": {},
   "outputs": [],
   "source": [
    "base_log_reg.score(X_te, y_te)"
   ]
  },
  {
   "cell_type": "markdown",
   "id": "4760c4f6-1d83-4acd-9910-b5395e751eba",
   "metadata": {},
   "source": [
    "We're going to project our features onto a lower dimensional subspace in order to reduce the dimensionality of our dataset from 26.\\\n",
    "Let's determine how many principal components are required to retain 95% of the features' variance"
   ]
  },
  {
   "cell_type": "code",
   "execution_count": null,
   "id": "918d4d2e-9a25-4e84-95d8-5d01858a769f",
   "metadata": {},
   "outputs": [],
   "source": [
    "pca = PCA()\n",
    "pca.fit(X_tr)"
   ]
  },
  {
   "cell_type": "code",
   "execution_count": null,
   "id": "a74485fb-0103-4ccf-9203-e5674a92a4db",
   "metadata": {},
   "outputs": [],
   "source": [
    "#Output variance explained by each component\n",
    "expl_var = pca.explained_variance_ratio_\n",
    "ex_var_df = pd.DataFrame(expl_var)\n",
    "ex_var_df"
   ]
  },
  {
   "cell_type": "markdown",
   "id": "076cfcfa-451c-44a6-a4ab-dd00af7cf687",
   "metadata": {},
   "source": [
    "The orders of magnitude change from tenths to hundredths and beyond pretty fast, suggesting a few components account for much of the variance;\\\n",
    "lets see those values normalized in an array."
   ]
  },
  {
   "cell_type": "code",
   "execution_count": null,
   "id": "2625aee8-a584-49c0-82af-10e52d5abaf4",
   "metadata": {},
   "outputs": [],
   "source": [
    "#Output cumulative variance explained by principal components (first, second, etc.)\n",
    "cumulative_sum = np.cumsum(expl_var)\n",
    "cumulative_sum"
   ]
  },
  {
   "cell_type": "markdown",
   "id": "664bac4a-fa1d-46c2-b19e-8b5444a18387",
   "metadata": {},
   "source": [
    "We can see that at least 95% of the variance is captured by two principal components;\\\n",
    "99% is captured by three"
   ]
  },
  {
   "cell_type": "code",
   "execution_count": null,
   "id": "6f87006c-7843-4af3-a88e-ecd08648bb36",
   "metadata": {},
   "outputs": [],
   "source": [
    "#Store components necessary to capture 95% of variance in variable\n",
    "dim_95 = np.argmax(cumulative_sum >= 0.95) + 1\n",
    "dim_99 = np.argmax(cumulative_sum >= 0.99) + 1\n",
    "\n",
    "print(str(dim_95)+'\\n'+str(dim_99))"
   ]
  },
  {
   "cell_type": "markdown",
   "id": "f6edbe3b-2122-496f-916a-59d7630fed84",
   "metadata": {},
   "source": [
    "Now, lets use a simpler method"
   ]
  },
  {
   "cell_type": "code",
   "execution_count": null,
   "id": "22f8ee16-ef99-4984-8d18-cbd113ea6b35",
   "metadata": {},
   "outputs": [],
   "source": [
    "pca_95 = PCA(n_components=0.95)\n",
    "pca_99 = PCA(n_components=0.99)"
   ]
  },
  {
   "cell_type": "markdown",
   "id": "d70937ef-5828-48b7-bd85-e3f4f22f1e47",
   "metadata": {},
   "source": [
    "And transform our training dataset into two and then three principal components with PCA"
   ]
  },
  {
   "cell_type": "code",
   "execution_count": null,
   "id": "6b9d3789-baf6-4be1-9b44-a371b2172141",
   "metadata": {},
   "outputs": [],
   "source": [
    "#Create reduced/PCA-transformed datasets\n",
    "X_tr_2D = pca_95.fit_transform(X_tr)\n",
    "X_tr_3D = pca_99.fit_transform(X_tr)\n",
    "\n",
    "print('Number of components for 95% variance:', pca_95.n_components_)\n",
    "print('Number of components for 99% variance:', pca_99.n_components_)"
   ]
  },
  {
   "cell_type": "code",
   "execution_count": null,
   "id": "cb8f8325-6f0d-4774-8cae-188d48cde37b",
   "metadata": {},
   "outputs": [],
   "source": [
    "#Plot 2D dataset\n",
    "print(X_tr_2D.shape)\n",
    "X_tr_2D"
   ]
  },
  {
   "cell_type": "code",
   "execution_count": null,
   "id": "99b53562-cee8-48a7-820f-581d2738f428",
   "metadata": {},
   "outputs": [],
   "source": [
    "plt.scatter(X_tr_2D[:, 0], X_tr_2D[:, 1], c='teal', alpha=0.5)"
   ]
  },
  {
   "cell_type": "code",
   "execution_count": null,
   "id": "156728e9-de01-4330-b402-54e0d8bb7003",
   "metadata": {},
   "outputs": [],
   "source": [
    "#Plot 3D dataset\n",
    "X_tr_3D.shape"
   ]
  },
  {
   "cell_type": "code",
   "execution_count": null,
   "id": "3b2bd86f-8b02-43ef-969a-6eac735d7d5f",
   "metadata": {},
   "outputs": [],
   "source": [
    "x = X_tr_3D[:, 0]\n",
    "y = X_tr_3D[:, 1]\n",
    "z = X_tr_3D[:, 2]\n",
    "\n",
    "fig = plt.figure(figsize=(10,8))\n",
    "ax = fig.add_subplot(111, projection=\"3d\")\n",
    "ax.scatter(x, y, z, c=\"blue\", marker=\"o\" )\n",
    "ax.set_title(\"Projection of principal components onto 3D subspace\")\n",
    "plt.show()"
   ]
  },
  {
   "cell_type": "markdown",
   "id": "c201146a-b855-44d0-98cc-2c64b0501c63",
   "metadata": {},
   "source": [
    "Above, we can visually confirm that this data might not need a third dimension"
   ]
  }
 ],
 "metadata": {
  "kernelspec": {
   "display_name": "Python 3 (ipykernel)",
   "language": "python",
   "name": "python3"
  },
  "language_info": {
   "codemirror_mode": {
    "name": "ipython",
    "version": 3
   },
   "file_extension": ".py",
   "mimetype": "text/x-python",
   "name": "python",
   "nbconvert_exporter": "python",
   "pygments_lexer": "ipython3",
   "version": "3.11.0"
  }
 },
 "nbformat": 4,
 "nbformat_minor": 5
}
