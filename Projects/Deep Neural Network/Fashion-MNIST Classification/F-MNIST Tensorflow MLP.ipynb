{
 "cells": [
  {
   "cell_type": "markdown",
   "id": "b721ca18-835c-4b2c-94ca-d4e5a6964cc9",
   "metadata": {},
   "source": [
    "<font size=\"5\">Fashion-MNIST Multilayer Perceptron (Tensorflow)</font>\n",
    "\n",
    "**Version 1 - IN PROGRESS**\n",
    "\n",
    "<u>Upcoming<u/>\n",
    "- Improve Performance\n",
    "  - Convert ndarrays to tensors for automatic differentiation support\n",
    "  - Display performance metrics in confusion matrix; reduce error rate\n",
    "  - Tune hyperparameters (learning rate/schedule, # layers, neurons per layer, neuron dropout, etc.)\n",
    "- Reduce Computational Cost\n",
    "  - Utilize 32-bit tensors for improved speed, minimized RAM usage\n",
    "  - Implement Tensorboard callbacks for early stopping (plus visualization, statistics, etc.)\n",
    "\n",
    "<br />\n",
    "\n",
    "<u>Quick Notes<u/>\n",
    "- Dataset contains 70,000 grayscale images of fashion items across 10 categories/classes, with information stored at the pixel level\n",
    "  - Image dimensions are 28*28 pixels (784 total)\n",
    "  - Data features consist of 784 pixel brightnesses (ranging from 0-255), with no colour (RGB/RGBA) information.\n",
    "  - Data labels contain the true classification of each instance (integer encoding, 0-9).\n",
    "- Since there is no emphasis on classifying any label in particular, and the full dataset conveniently includes equal proportions of all labels, train/validation/test sets are created with equal (stratified) proportions of instance labels."
   ]
  },
  {
   "cell_type": "code",
   "execution_count": 1,
   "id": "6d3e4480-ebcc-4b9f-ba9b-7cd91b0a5959",
   "metadata": {
    "tags": []
   },
   "outputs": [],
   "source": [
    "#Imports\n",
    "from sklearn.model_selection import train_test_split\n",
    "import tensorflow as tf\n",
    "import pandas as pd\n",
    "import matplotlib.pyplot as plt\n",
    "import seaborn as sns\n",
    "import numpy as np\n",
    "from pathlib import Path\n",
    "from time import strftime\n",
    "import datetime\n",
    "import random\n",
    "\n",
    "%load_ext tensorboard"
   ]
  },
  {
   "cell_type": "code",
   "execution_count": 2,
   "id": "d1fab154-bd94-4c9b-8c75-e603536f8375",
   "metadata": {
    "tags": []
   },
   "outputs": [
    {
     "name": "stdout",
     "output_type": "stream",
     "text": [
      "(70000, 785)\n"
     ]
    },
    {
     "data": {
      "text/html": [
       "<div>\n",
       "<style scoped>\n",
       "    .dataframe tbody tr th:only-of-type {\n",
       "        vertical-align: middle;\n",
       "    }\n",
       "\n",
       "    .dataframe tbody tr th {\n",
       "        vertical-align: top;\n",
       "    }\n",
       "\n",
       "    .dataframe thead th {\n",
       "        text-align: right;\n",
       "    }\n",
       "</style>\n",
       "<table border=\"1\" class=\"dataframe\">\n",
       "  <thead>\n",
       "    <tr style=\"text-align: right;\">\n",
       "      <th></th>\n",
       "      <th>label</th>\n",
       "      <th>pixel1</th>\n",
       "      <th>pixel2</th>\n",
       "      <th>pixel3</th>\n",
       "      <th>pixel4</th>\n",
       "      <th>pixel5</th>\n",
       "      <th>pixel6</th>\n",
       "      <th>pixel7</th>\n",
       "      <th>pixel8</th>\n",
       "      <th>pixel9</th>\n",
       "      <th>...</th>\n",
       "      <th>pixel775</th>\n",
       "      <th>pixel776</th>\n",
       "      <th>pixel777</th>\n",
       "      <th>pixel778</th>\n",
       "      <th>pixel779</th>\n",
       "      <th>pixel780</th>\n",
       "      <th>pixel781</th>\n",
       "      <th>pixel782</th>\n",
       "      <th>pixel783</th>\n",
       "      <th>pixel784</th>\n",
       "    </tr>\n",
       "  </thead>\n",
       "  <tbody>\n",
       "    <tr>\n",
       "      <th>0</th>\n",
       "      <td>2</td>\n",
       "      <td>0</td>\n",
       "      <td>0</td>\n",
       "      <td>0</td>\n",
       "      <td>0</td>\n",
       "      <td>0</td>\n",
       "      <td>0</td>\n",
       "      <td>0</td>\n",
       "      <td>0</td>\n",
       "      <td>0</td>\n",
       "      <td>...</td>\n",
       "      <td>0</td>\n",
       "      <td>0</td>\n",
       "      <td>0</td>\n",
       "      <td>0</td>\n",
       "      <td>0</td>\n",
       "      <td>0</td>\n",
       "      <td>0</td>\n",
       "      <td>0</td>\n",
       "      <td>0</td>\n",
       "      <td>0</td>\n",
       "    </tr>\n",
       "    <tr>\n",
       "      <th>1</th>\n",
       "      <td>9</td>\n",
       "      <td>0</td>\n",
       "      <td>0</td>\n",
       "      <td>0</td>\n",
       "      <td>0</td>\n",
       "      <td>0</td>\n",
       "      <td>0</td>\n",
       "      <td>0</td>\n",
       "      <td>0</td>\n",
       "      <td>0</td>\n",
       "      <td>...</td>\n",
       "      <td>0</td>\n",
       "      <td>0</td>\n",
       "      <td>0</td>\n",
       "      <td>0</td>\n",
       "      <td>0</td>\n",
       "      <td>0</td>\n",
       "      <td>0</td>\n",
       "      <td>0</td>\n",
       "      <td>0</td>\n",
       "      <td>0</td>\n",
       "    </tr>\n",
       "  </tbody>\n",
       "</table>\n",
       "<p>2 rows × 785 columns</p>\n",
       "</div>"
      ],
      "text/plain": [
       "   label  pixel1  pixel2  pixel3  pixel4  pixel5  pixel6  pixel7  pixel8  \\\n",
       "0      2       0       0       0       0       0       0       0       0   \n",
       "1      9       0       0       0       0       0       0       0       0   \n",
       "\n",
       "   pixel9  ...  pixel775  pixel776  pixel777  pixel778  pixel779  pixel780  \\\n",
       "0       0  ...         0         0         0         0         0         0   \n",
       "1       0  ...         0         0         0         0         0         0   \n",
       "\n",
       "   pixel781  pixel782  pixel783  pixel784  \n",
       "0         0         0         0         0  \n",
       "1         0         0         0         0  \n",
       "\n",
       "[2 rows x 785 columns]"
      ]
     },
     "execution_count": 2,
     "metadata": {},
     "output_type": "execute_result"
    }
   ],
   "source": [
    "#Import full CSV data as DataFrame\n",
    "fmnist_full = pd.read_csv(r'C:\\Users\\darkw\\Desktop\\f_mnist_full.csv')\n",
    "print(fmnist_full.shape)\n",
    "pd.DataFrame(fmnist_full).head(2)"
   ]
  },
  {
   "cell_type": "code",
   "execution_count": 3,
   "id": "d681fb8b-f5fe-458c-8fc1-c4e03941b6fe",
   "metadata": {},
   "outputs": [
    {
     "data": {
      "text/plain": [
       "['T-shirt/top',\n",
       " 'Trouser',\n",
       " 'Pullover',\n",
       " 'Dress',\n",
       " 'Coat',\n",
       " 'Sandal',\n",
       " 'Shirt',\n",
       " 'Sneaker',\n",
       " 'Bag',\n",
       " 'Ankle boot']"
      ]
     },
     "execution_count": 3,
     "metadata": {},
     "output_type": "execute_result"
    }
   ],
   "source": [
    "#Establish indexed class list\n",
    "class_names = [\n",
    "    \"T-shirt/top\",\n",
    "    \"Trouser\",\n",
    "    \"Pullover\",\n",
    "    \"Dress\",\n",
    "    \"Coat\",\n",
    "    \"Sandal\",\n",
    "    \"Shirt\",\n",
    "    \"Sneaker\",\n",
    "    \"Bag\",\n",
    "    \"Ankle boot\"\n",
    "]\n",
    "class_names"
   ]
  },
  {
   "cell_type": "code",
   "execution_count": 4,
   "id": "057bdeab-5480-4deb-95c3-d89d436f2646",
   "metadata": {},
   "outputs": [
    {
     "name": "stdout",
     "output_type": "stream",
     "text": [
      "Item clothing category: T-shirt/top\n",
      "       label  pixel18  pixel392  pixel750\n",
      "29191      0        0         0         0\n"
     ]
    }
   ],
   "source": [
    "#Sample 1: Visualize record stored in DataFrame\n",
    " #Select random df record\n",
    "sample = fmnist_full.sample(1)\n",
    " #Output sample 1 category from df\n",
    "s_class = sample['label'].values[0]\n",
    "print('Item clothing category:', class_names[s_class])\n",
    " #Preview sample index+values\n",
    "print(sample[['label','pixel18','pixel392','pixel750']])"
   ]
  },
  {
   "cell_type": "code",
   "execution_count": 5,
   "id": "3be11cc0-4963-4fca-aa17-14bf72d619bf",
   "metadata": {},
   "outputs": [],
   "source": [
    " #Store sample features\n",
    "sample = sample.drop(sample[['label']], axis=1)\n",
    "s_vals = sample.values[0]\n",
    " #Reshape sample features for visualization\n",
    "s_img = s_vals.reshape(28, 28)"
   ]
  },
  {
   "cell_type": "code",
   "execution_count": 6,
   "id": "30a36d97-f13b-4729-8f0a-b74f58088d09",
   "metadata": {},
   "outputs": [
    {
     "data": {
      "text/plain": [
       "<matplotlib.image.AxesImage at 0x2748342c8b0>"
      ]
     },
     "execution_count": 6,
     "metadata": {},
     "output_type": "execute_result"
    },
    {
     "data": {
      "image/png": "[encoded data removed]",
      "text/plain": [
       "<Figure size 640x480 with 1 Axes>"
      ]
     },
     "metadata": {},
     "output_type": "display_data"
    }
   ],
   "source": [
    "#Display sample in original cmap (grayscale)\n",
    "plt.imshow(s_img, cmap='gray')"
   ]
  },
  {
   "cell_type": "code",
   "execution_count": 7,
   "id": "bcaf786f-38ff-4236-851a-c480c21e294d",
   "metadata": {},
   "outputs": [
    {
     "data": {
      "text/plain": [
       "((70000, 784), (70000,))"
      ]
     },
     "execution_count": 7,
     "metadata": {},
     "output_type": "execute_result"
    }
   ],
   "source": [
    "#Create target + feature dfs\n",
    "y = fmnist_full['label']\n",
    "\n",
    "X = fmnist_full.drop(fmnist_full[['label']], axis=1)\n",
    "X.shape, y.shape"
   ]
  },
  {
   "cell_type": "code",
   "execution_count": 8,
   "id": "d487444e-3180-415e-8b34-35350bb80b43",
   "metadata": {},
   "outputs": [
    {
     "data": {
      "text/plain": [
       "label\n",
       "0    7000\n",
       "1    7000\n",
       "2    7000\n",
       "3    7000\n",
       "4    7000\n",
       "5    7000\n",
       "6    7000\n",
       "7    7000\n",
       "8    7000\n",
       "9    7000\n",
       "Name: count, dtype: int64"
      ]
     },
     "execution_count": 8,
     "metadata": {},
     "output_type": "execute_result"
    }
   ],
   "source": [
    "#Review dataset balance\n",
    "y.value_counts().sort_index()"
   ]
  },
  {
   "cell_type": "code",
   "execution_count": 9,
   "id": "89b28b22-851e-4477-a8fa-eb3e77e39295",
   "metadata": {},
   "outputs": [
    {
     "data": {
      "text/plain": [
       "(70000, 28, 28)"
      ]
     },
     "execution_count": 9,
     "metadata": {},
     "output_type": "execute_result"
    }
   ],
   "source": [
    "#Convert feature df to array + reshape for input layer\n",
    "X_28 = X.to_numpy().reshape(70000, 28, 28)\n",
    "X_28.shape"
   ]
  },
  {
   "cell_type": "code",
   "execution_count": 10,
   "id": "356e757a-e237-45bd-bbb4-425197952f45",
   "metadata": {},
   "outputs": [
    {
     "data": {
      "text/plain": [
       "(70000,)"
      ]
     },
     "execution_count": 10,
     "metadata": {},
     "output_type": "execute_result"
    }
   ],
   "source": [
    "#Convert target df to array\n",
    "y = y.to_numpy()\n",
    "y.shape"
   ]
  },
  {
   "cell_type": "code",
   "execution_count": 11,
   "id": "d0a65415-bb40-456d-84e4-caa33c105cb3",
   "metadata": {},
   "outputs": [
    {
     "data": {
      "text/plain": [
       "Index([29191], dtype='int64')"
      ]
     },
     "execution_count": 11,
     "metadata": {},
     "output_type": "execute_result"
    }
   ],
   "source": [
    "#Sample 2: Visualize record stored in array\n",
    " #Select random value for sample index\n",
    "#index_val = random.randint(0, 70000)\n",
    "\n",
    " #locate initial df sample in new array by index\n",
    "index_val = sample.index\n",
    "\n",
    " #Preview value\n",
    "index_val"
   ]
  },
  {
   "cell_type": "code",
   "execution_count": 12,
   "id": "0fbd252a-39d2-4c23-ad29-dca55fcc27fe",
   "metadata": {},
   "outputs": [
    {
     "name": "stdout",
     "output_type": "stream",
     "text": [
      "Item clothing category: T-shirt/top\n"
     ]
    }
   ],
   "source": [
    " #Output sample category from target array\n",
    "s_class2 = y[index_val][0]\n",
    "\n",
    "print('Item clothing category:', class_names[s_class2])"
   ]
  },
  {
   "cell_type": "code",
   "execution_count": 13,
   "id": "373f8b2d-ba58-4f29-9cab-c97d14a645a9",
   "metadata": {},
   "outputs": [
    {
     "name": "stdout",
     "output_type": "stream",
     "text": [
      "int64\n"
     ]
    },
    {
     "data": {
      "text/plain": [
       "array([  0,   0,   0,   0,   0,   0,   0,  44, 127,   0,   0,   0,   0,\n",
       "         0,   0,   0,   0,   0,   7, 118,  10,   0,   0,   0,   0,   0,\n",
       "         0,   0], dtype=int64)"
      ]
     },
     "execution_count": 13,
     "metadata": {},
     "output_type": "execute_result"
    }
   ],
   "source": [
    " #Store sample values from reshaped array\n",
    "sample2 = X_28[index_val][0]\n",
    " #Display integer values\n",
    "print(sample2.dtype)\n",
    "sample2[0][0:40]"
   ]
  },
  {
   "cell_type": "code",
   "execution_count": 14,
   "id": "c221c827-96d7-414f-aa63-a7250611c8e6",
   "metadata": {},
   "outputs": [
    {
     "data": {
      "text/plain": [
       "<matplotlib.image.AxesImage at 0x2748351d450>"
      ]
     },
     "execution_count": 14,
     "metadata": {},
     "output_type": "execute_result"
    },
    {
     "data": {
      "image/png": "[encoded data removed]",
      "text/plain": [
       "<Figure size 640x480 with 1 Axes>"
      ]
     },
     "metadata": {},
     "output_type": "display_data"
    }
   ],
   "source": [
    "#Display sample 2 in original cmap (grayscale)\n",
    "plt.imshow(sample2, cmap='gray')"
   ]
  },
  {
   "cell_type": "code",
   "execution_count": 15,
   "id": "a4067643-fb2a-4f16-bf55-9c4a651d688c",
   "metadata": {},
   "outputs": [],
   "source": [
    "#Split full dataset into 60,000 train + 10,000 test, maintaining label balance\n",
    "X_train_full, X_te, y_train_full, y_te = train_test_split(X_28, y, test_size=1/7, stratify=y)"
   ]
  },
  {
   "cell_type": "code",
   "execution_count": 16,
   "id": "b12098ce-0750-48ac-a492-46cc45e542d3",
   "metadata": {},
   "outputs": [],
   "source": [
    "#Compare methods for creating validation set from training set\n",
    " #Keras training APIs include 'validation_split'; selects \"the last samples in the x and y data provided, before shuffling\"\n",
    "  #Check last 5000 records to evaluate would-be balance of validation set created by index slice/keras method\n",
    "y_last5k = y_train_full[-5000:]"
   ]
  },
  {
   "cell_type": "code",
   "execution_count": 17,
   "id": "f45e4e91-b3e6-4f80-916b-e58baaa0f4ea",
   "metadata": {},
   "outputs": [
    {
     "name": "stdout",
     "output_type": "stream",
     "text": [
      "0 507\n",
      "1 491\n",
      "2 544\n",
      "3 483\n",
      "4 476\n",
      "5 494\n",
      "6 507\n",
      "7 488\n",
      "8 526\n",
      "9 484\n"
     ]
    }
   ],
   "source": [
    "value1, count1 = np.unique(y_last5k, return_counts=True)\n",
    "\n",
    "last5k_dict = dict(map(lambda label, freq : (label,freq) , value1, count1))\n",
    "\n",
    "for i in last5k_dict:\n",
    "    print(i, last5k_dict[i])"
   ]
  },
  {
   "cell_type": "code",
   "execution_count": 18,
   "id": "b9bbbb64-eaf7-4705-87c4-011bec0b937c",
   "metadata": {},
   "outputs": [],
   "source": [
    "#Split training data into 55,000 train + 5,000 validation\n",
    " #Use sklearn 'train_test_split' to stratify by label, preserving label balance more precisely than index slice/keras api\n",
    "X_train, X_valid, y_tr, y_val = train_test_split(X_train_full, y_train_full, test_size=1/12, stratify=y_train_full)"
   ]
  },
  {
   "cell_type": "code",
   "execution_count": 19,
   "id": "9217b64a-8180-4988-a511-80757c2396cf",
   "metadata": {},
   "outputs": [
    {
     "name": "stdout",
     "output_type": "stream",
     "text": [
      "(55000, 28, 28) (55000,)\n",
      "(5000, 28, 28) (5000,)\n",
      "(10000, 28, 28) (10000,)\n"
     ]
    }
   ],
   "source": [
    "#Verify shapes\n",
    "print(X_train.shape, y_tr.shape)\n",
    "print(X_valid.shape, y_val.shape)\n",
    "print(X_te.shape, y_te.shape)"
   ]
  },
  {
   "cell_type": "code",
   "execution_count": 20,
   "id": "622795fe-5a5d-4194-ba40-07493d386eee",
   "metadata": {
    "tags": []
   },
   "outputs": [],
   "source": [
    "#Verify balance\n",
    "value2, count2 = np.unique(y_tr, return_counts=True)\n",
    "value3, count3 = np.unique(y_val, return_counts=True)\n",
    "value4, count4 = np.unique(y_te, return_counts=True)"
   ]
  },
  {
   "cell_type": "code",
   "execution_count": 21,
   "id": "b21936b8-384d-4bc5-b961-91c77a5cdad2",
   "metadata": {},
   "outputs": [
    {
     "name": "stdout",
     "output_type": "stream",
     "text": [
      "0 5500\n",
      "1 5500\n",
      "2 5500\n",
      "3 5500\n",
      "4 5500\n",
      "5 5500\n",
      "6 5500\n",
      "7 5500\n",
      "8 5500\n",
      "9 5500\n"
     ]
    }
   ],
   "source": [
    " #Map and display dictionary for training label frequencies\n",
    "label_dict1 = dict(map(lambda label, freq : (label,freq) , value2, count2))\n",
    "\n",
    "for i in label_dict1:\n",
    "    print(i, label_dict1[i])"
   ]
  },
  {
   "cell_type": "code",
   "execution_count": 22,
   "id": "08506d8d-995d-429f-aebf-5c956f07c558",
   "metadata": {},
   "outputs": [
    {
     "name": "stdout",
     "output_type": "stream",
     "text": [
      "0 500\n",
      "1 500\n",
      "2 500\n",
      "3 500\n",
      "4 500\n",
      "5 500\n",
      "6 500\n",
      "7 500\n",
      "8 500\n",
      "9 500\n"
     ]
    }
   ],
   "source": [
    " #Map and display dictionary for validation label frequencies\n",
    "label_dict2 = dict(map(lambda label, freq : (label,freq) , value3, count3))\n",
    "\n",
    "for i in label_dict2:\n",
    "    print(i, label_dict2[i])"
   ]
  },
  {
   "cell_type": "code",
   "execution_count": 23,
   "id": "d003d756-47fa-449f-bd27-242f18b199ac",
   "metadata": {},
   "outputs": [
    {
     "name": "stdout",
     "output_type": "stream",
     "text": [
      "0 1000\n",
      "1 1000\n",
      "2 1000\n",
      "3 1000\n",
      "4 1000\n",
      "5 1000\n",
      "6 1000\n",
      "7 1000\n",
      "8 1000\n",
      "9 1000\n"
     ]
    }
   ],
   "source": [
    " #Map and display dictionary for test label frequencies\n",
    "label_dict3 = dict(map(lambda label, freq : (label,freq) , value4, count4))\n",
    "\n",
    "for i in label_dict3:\n",
    "    print(i, label_dict3[i])"
   ]
  },
  {
   "cell_type": "code",
   "execution_count": 24,
   "id": "bd06fa39-354f-40ea-b8a1-307338862d8d",
   "metadata": {},
   "outputs": [],
   "source": [
    "#Scale feature sets from 0-255 (int) to 0.0-1.0 (float)\n",
    "X_tr_sc, X_val_sc, X_te_sc = X_train/255., X_valid/255., X_te/255."
   ]
  },
  {
   "cell_type": "code",
   "execution_count": 25,
   "id": "7d991129-8d88-46b5-b6e9-e39e45acf099",
   "metadata": {},
   "outputs": [
    {
     "name": "stdout",
     "output_type": "stream",
     "text": [
      "float64\n"
     ]
    },
    {
     "data": {
      "text/plain": [
       "array([0.        , 0.        , 0.        , 0.        , 0.        ,\n",
       "       0.        , 0.        , 0.        , 0.        , 0.        ,\n",
       "       0.        , 0.29411765, 0.14901961, 0.14117647, 0.1372549 ,\n",
       "       0.07843137, 0.10980392, 0.24705882, 0.03921569, 0.        ,\n",
       "       0.        , 0.        , 0.        , 0.        , 0.        ,\n",
       "       0.        , 0.        , 0.        ])"
      ]
     },
     "execution_count": 25,
     "metadata": {},
     "output_type": "execute_result"
    }
   ],
   "source": [
    "#Visualize post-splits, post-scaling sample\n",
    "sample3 = X_tr_sc[0]\n",
    "#Verify transformation to float values\n",
    "print(sample3.dtype)\n",
    "sample3[0][0:40]"
   ]
  },
  {
   "cell_type": "code",
   "execution_count": 26,
   "id": "fe007442-e8ed-4951-97c3-7470eb2f2417",
   "metadata": {},
   "outputs": [
    {
     "name": "stdout",
     "output_type": "stream",
     "text": [
      "Trouser\n"
     ]
    }
   ],
   "source": [
    "s_class3 = y_tr[0]\n",
    "print(class_names[s_class3])"
   ]
  },
  {
   "cell_type": "code",
   "execution_count": 27,
   "id": "02e8f5fa-976a-44af-b8ac-f59075d5726d",
   "metadata": {},
   "outputs": [
    {
     "data": {
      "text/plain": [
       "<matplotlib.image.AxesImage at 0x27482851630>"
      ]
     },
     "execution_count": 27,
     "metadata": {},
     "output_type": "execute_result"
    },
    {
     "data": {
      "image/png": "[encoded data removed]",
      "text/plain": [
       "<Figure size 640x480 with 1 Axes>"
      ]
     },
     "metadata": {},
     "output_type": "display_data"
    }
   ],
   "source": [
    "plt.imshow(sample3, cmap='gray')"
   ]
  },
  {
   "cell_type": "code",
   "execution_count": 28,
   "id": "52e7cd23-9c69-4ef3-8526-9b63c01e8a22",
   "metadata": {
    "tags": []
   },
   "outputs": [],
   "source": [
    "#TensorBoard log directory setup\n",
    "log_dir = \"tensorboard_logs/fit/\" + datetime.datetime.now().strftime(\"%Y%m%d-%H%M%S\")\n",
    "event_cb = tf.keras.callbacks.TensorBoard(log_dir=log_dir, histogram_freq=1)"
   ]
  },
  {
   "cell_type": "code",
   "execution_count": 29,
   "id": "3416947f-5416-4f61-857d-101a40bf3859",
   "metadata": {},
   "outputs": [
    {
     "name": "stdout",
     "output_type": "stream",
     "text": [
      "Model: \"sequential\"\n",
      "_________________________________________________________________\n",
      " Layer (type)                Output Shape              Param #   \n",
      "=================================================================\n",
      " flatten (Flatten)           (None, 784)               0         \n",
      "                                                                 \n",
      " dense (Dense)               (None, 300)               235500    \n",
      "                                                                 \n",
      " dense_1 (Dense)             (None, 100)               30100     \n",
      "                                                                 \n",
      " dense_2 (Dense)             (None, 10)                1010      \n",
      "                                                                 \n",
      "=================================================================\n",
      "Total params: 266,610\n",
      "Trainable params: 266,610\n",
      "Non-trainable params: 0\n",
      "_________________________________________________________________\n"
     ]
    }
   ],
   "source": [
    "#Build Network 1\n",
    " #2 Hidden layers (300 * 100 nodes)\n",
    "dnn1 = tf.keras.Sequential([\n",
    "tf.keras.layers.Flatten(input_shape=[28,28]),\n",
    "tf.keras.layers.Dense(300, activation='relu'),\n",
    "tf.keras.layers.Dense(100, activation='relu'),\n",
    "tf.keras.layers.Dense(10, activation='softmax')\n",
    "])\n",
    "\n",
    "dnn1.summary()"
   ]
  },
  {
   "cell_type": "code",
   "execution_count": 30,
   "id": "fa339695-d7e4-4500-9fd3-3e14ef358ff4",
   "metadata": {},
   "outputs": [
    {
     "data": {
      "text/plain": [
       "'dense_1'"
      ]
     },
     "execution_count": 30,
     "metadata": {},
     "output_type": "execute_result"
    }
   ],
   "source": [
    "#Preview initialized weights and biases\n",
    "layer_100node = dnn1.layers[2]\n",
    "layer_100node.name"
   ]
  },
  {
   "cell_type": "code",
   "execution_count": 31,
   "id": "4e49aed4-599f-490b-ad98-287a777d0c89",
   "metadata": {},
   "outputs": [
    {
     "name": "stdout",
     "output_type": "stream",
     "text": [
      "(300, 100)\n"
     ]
    },
    {
     "data": {
      "text/plain": [
       "array([[-0.06633005,  0.06656501, -0.01633751, ..., -0.0329575 ,\n",
       "         0.06013011, -0.09096713],\n",
       "       [-0.1045317 , -0.11061737, -0.05560263, ..., -0.01358025,\n",
       "         0.0201325 , -0.03633167],\n",
       "       [ 0.0132724 ,  0.08582223, -0.1040988 , ...,  0.11388726,\n",
       "         0.03460059,  0.08844066],\n",
       "       ...,\n",
       "       [-0.05850612,  0.00114249, -0.04868656, ..., -0.10365499,\n",
       "         0.10143081,  0.05088522],\n",
       "       [-0.01864876, -0.04469259, -0.07847114, ..., -0.05352994,\n",
       "         0.09143556, -0.01247184],\n",
       "       [-0.00089183,  0.11207364, -0.01908536, ..., -0.03479072,\n",
       "         0.09811186, -0.01293396]], dtype=float32)"
      ]
     },
     "execution_count": 31,
     "metadata": {},
     "output_type": "execute_result"
    }
   ],
   "source": [
    "weights_100, biases_100 = layer_100node.get_weights()\n",
    "print(weights_100.shape)\n",
    "weights_100"
   ]
  },
  {
   "cell_type": "code",
   "execution_count": 32,
   "id": "49efa1d9-d72a-4c30-b271-4f458f5810c1",
   "metadata": {},
   "outputs": [
    {
     "name": "stdout",
     "output_type": "stream",
     "text": [
      "(100,)\n"
     ]
    },
    {
     "data": {
      "text/plain": [
       "array([0., 0., 0., 0., 0., 0., 0., 0., 0., 0., 0., 0., 0., 0., 0., 0., 0.,\n",
       "       0., 0., 0., 0., 0., 0., 0., 0., 0., 0., 0., 0., 0., 0., 0., 0., 0.,\n",
       "       0., 0., 0., 0., 0., 0., 0., 0., 0., 0., 0., 0., 0., 0., 0., 0., 0.,\n",
       "       0., 0., 0., 0., 0., 0., 0., 0., 0., 0., 0., 0., 0., 0., 0., 0., 0.,\n",
       "       0., 0., 0., 0., 0., 0., 0., 0., 0., 0., 0., 0., 0., 0., 0., 0., 0.,\n",
       "       0., 0., 0., 0., 0., 0., 0., 0., 0., 0., 0., 0., 0., 0., 0.],\n",
       "      dtype=float32)"
      ]
     },
     "execution_count": 32,
     "metadata": {},
     "output_type": "execute_result"
    }
   ],
   "source": [
    "print(biases_100.shape)\n",
    "biases_100"
   ]
  },
  {
   "cell_type": "code",
   "execution_count": 33,
   "id": "2492586a-c2ad-4f89-99d3-f05a911808bd",
   "metadata": {},
   "outputs": [],
   "source": [
    "optimizer1 = tf.keras.optimizers.SGD() #set using 'learning_rate' (default: 0.01)\n",
    "\n",
    "dnn1.compile(loss='sparse_categorical_crossentropy',\n",
    "                   optimizer=optimizer1,\n",
    "                   metrics=['accuracy'])"
   ]
  },
  {
   "cell_type": "code",
   "execution_count": 34,
   "id": "32dd2ebe-390f-4884-adba-218bf53df35f",
   "metadata": {},
   "outputs": [
    {
     "name": "stdout",
     "output_type": "stream",
     "text": [
      "Epoch 1/25\n",
      "1719/1719 [==============================] - 13s 7ms/step - loss: 0.7175 - accuracy: 0.7605 - val_loss: 0.5366 - val_accuracy: 0.8186\n",
      "Epoch 2/25\n",
      "1719/1719 [==============================] - 10s 6ms/step - loss: 0.4939 - accuracy: 0.8277 - val_loss: 0.4709 - val_accuracy: 0.8440\n",
      "Epoch 3/25\n",
      "1719/1719 [==============================] - 10s 6ms/step - loss: 0.4502 - accuracy: 0.8426 - val_loss: 0.4502 - val_accuracy: 0.8472\n",
      "Epoch 4/25\n",
      "1719/1719 [==============================] - 11s 7ms/step - loss: 0.4220 - accuracy: 0.8523 - val_loss: 0.4247 - val_accuracy: 0.8556\n",
      "Epoch 5/25\n",
      "1719/1719 [==============================] - 10s 6ms/step - loss: 0.4029 - accuracy: 0.8595 - val_loss: 0.4348 - val_accuracy: 0.8470\n",
      "Epoch 6/25\n",
      "1719/1719 [==============================] - 11s 6ms/step - loss: 0.3836 - accuracy: 0.8658 - val_loss: 0.4132 - val_accuracy: 0.8492\n",
      "Epoch 7/25\n",
      "1719/1719 [==============================] - 10s 6ms/step - loss: 0.3705 - accuracy: 0.8702 - val_loss: 0.3936 - val_accuracy: 0.8622\n",
      "Epoch 8/25\n",
      "1719/1719 [==============================] - 10s 6ms/step - loss: 0.3590 - accuracy: 0.8721 - val_loss: 0.3907 - val_accuracy: 0.8650\n",
      "Epoch 9/25\n",
      "1719/1719 [==============================] - 10s 6ms/step - loss: 0.3478 - accuracy: 0.8772 - val_loss: 0.3770 - val_accuracy: 0.8660\n",
      "Epoch 10/25\n",
      "1719/1719 [==============================] - 11s 7ms/step - loss: 0.3377 - accuracy: 0.8802 - val_loss: 0.3615 - val_accuracy: 0.8718\n",
      "Epoch 11/25\n",
      "1719/1719 [==============================] - 10s 6ms/step - loss: 0.3285 - accuracy: 0.8823 - val_loss: 0.3617 - val_accuracy: 0.8750\n",
      "Epoch 12/25\n",
      "1719/1719 [==============================] - 10s 6ms/step - loss: 0.3206 - accuracy: 0.8853 - val_loss: 0.3624 - val_accuracy: 0.8720\n",
      "Epoch 13/25\n",
      "1719/1719 [==============================] - 9s 5ms/step - loss: 0.3130 - accuracy: 0.8880 - val_loss: 0.3464 - val_accuracy: 0.8746\n",
      "Epoch 14/25\n",
      "1719/1719 [==============================] - 9s 5ms/step - loss: 0.3058 - accuracy: 0.8903 - val_loss: 0.3490 - val_accuracy: 0.8732\n",
      "Epoch 15/25\n",
      "1719/1719 [==============================] - 10s 6ms/step - loss: 0.3002 - accuracy: 0.8920 - val_loss: 0.3686 - val_accuracy: 0.8662\n",
      "Epoch 16/25\n",
      "1719/1719 [==============================] - 8s 5ms/step - loss: 0.2942 - accuracy: 0.8949 - val_loss: 0.3565 - val_accuracy: 0.8718\n",
      "Epoch 17/25\n",
      "1719/1719 [==============================] - 10s 6ms/step - loss: 0.2886 - accuracy: 0.8962 - val_loss: 0.3506 - val_accuracy: 0.8738\n",
      "Epoch 18/25\n",
      "1719/1719 [==============================] - 10s 6ms/step - loss: 0.2825 - accuracy: 0.8988 - val_loss: 0.3431 - val_accuracy: 0.8728\n",
      "Epoch 19/25\n",
      "1719/1719 [==============================] - 9s 6ms/step - loss: 0.2783 - accuracy: 0.9007 - val_loss: 0.3461 - val_accuracy: 0.8796\n",
      "Epoch 20/25\n",
      "1719/1719 [==============================] - 10s 6ms/step - loss: 0.2724 - accuracy: 0.9031 - val_loss: 0.3338 - val_accuracy: 0.8780\n",
      "Epoch 21/25\n",
      "1719/1719 [==============================] - 10s 6ms/step - loss: 0.2685 - accuracy: 0.9037 - val_loss: 0.3333 - val_accuracy: 0.8774\n",
      "Epoch 22/25\n",
      "1719/1719 [==============================] - 11s 6ms/step - loss: 0.2632 - accuracy: 0.9060 - val_loss: 0.3306 - val_accuracy: 0.8784\n",
      "Epoch 23/25\n",
      "1719/1719 [==============================] - 10s 6ms/step - loss: 0.2580 - accuracy: 0.9074 - val_loss: 0.3307 - val_accuracy: 0.8828\n",
      "Epoch 24/25\n",
      "1719/1719 [==============================] - 9s 5ms/step - loss: 0.2540 - accuracy: 0.9099 - val_loss: 0.3267 - val_accuracy: 0.8814\n",
      "Epoch 25/25\n",
      "1719/1719 [==============================] - 10s 6ms/step - loss: 0.2505 - accuracy: 0.9093 - val_loss: 0.3203 - val_accuracy: 0.8856\n"
     ]
    }
   ],
   "source": [
    "#Train network + store results\n",
    "epoch_count = 25\n",
    "history1 = dnn1.fit(X_tr_sc, y_tr, epochs=epoch_count, validation_data=(X_val_sc, y_val), callbacks=[event_cb])"
   ]
  },
  {
   "cell_type": "code",
   "execution_count": 35,
   "id": "0b647171-6e17-4668-b6ca-d29b2ef38043",
   "metadata": {},
   "outputs": [
    {
     "data": {
      "image/png": "[encoded data removed]",
      "text/plain": [
       "<Figure size 800x500 with 1 Axes>"
      ]
     },
     "metadata": {},
     "output_type": "display_data"
    }
   ],
   "source": [
    "#Visualize learning curves manually\n",
    "dnn1_learn_curves = pd.DataFrame(history1.history).plot(\n",
    "    figsize=(8,5), xlim=[0,epoch_count], ylim=[0,1], grid=True, xlabel=\"Epoch\", style=['r--','r--.','b-','b-*'])\n",
    "plt.show()"
   ]
  },
  {
   "cell_type": "code",
   "execution_count": 36,
   "id": "a29b8155-9020-489c-8acb-4c96f8b43a48",
   "metadata": {},
   "outputs": [
    {
     "name": "stdout",
     "output_type": "stream",
     "text": [
      "313/313 [==============================] - 1s 4ms/step - loss: 0.3007 - accuracy: 0.8929\n"
     ]
    },
    {
     "data": {
      "text/plain": [
       "[0.300741970539093, 0.8928999900817871]"
      ]
     },
     "execution_count": 36,
     "metadata": {},
     "output_type": "execute_result"
    }
   ],
   "source": [
    "#Evaluate model on test set\n",
    "dnn1.evaluate(X_te_sc, y_te)"
   ]
  },
  {
   "cell_type": "code",
   "execution_count": 37,
   "id": "d7ac9291-e169-4d9c-b155-271867f778a5",
   "metadata": {},
   "outputs": [
    {
     "data": {
      "text/html": [
       "\n",
       "      <iframe id=\"tensorboard-frame-ffb9ef8d296db519\" width=\"100%\" height=\"800\" frameborder=\"0\">\n",
       "      </iframe>\n",
       "      <script>\n",
       "        (function() {\n",
       "          const frame = document.getElementById(\"tensorboard-frame-ffb9ef8d296db519\");\n",
       "          const url = new URL(\"/\", window.location);\n",
       "          const port = 6006;\n",
       "          if (port) {\n",
       "            url.port = port;\n",
       "          }\n",
       "          frame.src = url;\n",
       "        })();\n",
       "      </script>\n",
       "    "
      ],
      "text/plain": [
       "<IPython.core.display.HTML object>"
      ]
     },
     "metadata": {},
     "output_type": "display_data"
    }
   ],
   "source": [
    "#Display TensorBoard\n",
    "%tensorboard --logdir tensorboard_logs/fit"
   ]
  },
  {
   "attachments": {
    "63bf8592-d398-40e1-915a-e0daba9639c2.PNG": {
     "image/png": "[encoded data removed]"
    }
   },
   "cell_type": "markdown",
   "id": "57b747c7-1db0-43e6-b92e-4a4a40a41b07",
   "metadata": {},
   "source": [
    "![tb_vis.PNG](attachment:63bf8592-d398-40e1-915a-e0daba9639c2.PNG)"
   ]
  }
 ],
 "metadata": {
  "kernelspec": {
   "display_name": "Python 3 (ipykernel)",
   "language": "python",
   "name": "python3"
  },
  "language_info": {
   "codemirror_mode": {
    "name": "ipython",
    "version": 3
   },
   "file_extension": ".py",
   "mimetype": "text/x-python",
   "name": "python",
   "nbconvert_exporter": "python",
   "pygments_lexer": "ipython3",
   "version": "3.10.8"
  }
 },
 "nbformat": 4,
 "nbformat_minor": 5
}
